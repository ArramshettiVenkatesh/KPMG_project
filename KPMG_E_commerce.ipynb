{
  "nbformat": 4,
  "nbformat_minor": 0,
  "metadata": {
    "colab": {
      "name": "KPMG E-commerce.ipynb",
      "provenance": []
    },
    "kernelspec": {
      "name": "python3",
      "display_name": "Python 3"
    },
    "language_info": {
      "name": "python"
    }
  },
  "cells": [
    {
      "cell_type": "code",
      "metadata": {
        "id": "SlYBSCFqmZdG"
      },
      "source": [
        "import numpy as np\n",
        "import pandas as pd\n",
        "import matplotlib.pyplot as plt"
      ],
      "execution_count": 1,
      "outputs": []
    },
    {
      "cell_type": "code",
      "metadata": {
        "id": "ZXoYofeQmf_1"
      },
      "source": [
        "df=pd.read_excel('/content/E-com_Data.xlsx')"
      ],
      "execution_count": 5,
      "outputs": []
    },
    {
      "cell_type": "code",
      "metadata": {
        "colab": {
          "base_uri": "https://localhost:8080/",
          "height": 238
        },
        "id": "Izm8QQm6nEaj",
        "outputId": "e2a15447-10bb-4bfb-c861-64e584a7db0f"
      },
      "source": [
        "df.head()"
      ],
      "execution_count": 6,
      "outputs": [
        {
          "output_type": "execute_result",
          "data": {
            "text/html": [
              "<div>\n",
              "<style scoped>\n",
              "    .dataframe tbody tr th:only-of-type {\n",
              "        vertical-align: middle;\n",
              "    }\n",
              "\n",
              "    .dataframe tbody tr th {\n",
              "        vertical-align: top;\n",
              "    }\n",
              "\n",
              "    .dataframe thead th {\n",
              "        text-align: right;\n",
              "    }\n",
              "</style>\n",
              "<table border=\"1\" class=\"dataframe\">\n",
              "  <thead>\n",
              "    <tr style=\"text-align: right;\">\n",
              "      <th></th>\n",
              "      <th>CustomerID</th>\n",
              "      <th>Item Code</th>\n",
              "      <th>InvoieNo</th>\n",
              "      <th>Date of purchase</th>\n",
              "      <th>Quantity</th>\n",
              "      <th>Time</th>\n",
              "      <th>price per Unit</th>\n",
              "      <th>Price</th>\n",
              "      <th>Shipping Location</th>\n",
              "      <th>Cancelled_status</th>\n",
              "      <th>Reason of return</th>\n",
              "      <th>Sold as set</th>\n",
              "    </tr>\n",
              "  </thead>\n",
              "  <tbody>\n",
              "    <tr>\n",
              "      <th>0</th>\n",
              "      <td>4355.0</td>\n",
              "      <td>15734</td>\n",
              "      <td>398177</td>\n",
              "      <td>2017-10-29</td>\n",
              "      <td>6</td>\n",
              "      <td>15:36:00</td>\n",
              "      <td>321.0</td>\n",
              "      <td>1926.0</td>\n",
              "      <td>Location 1</td>\n",
              "      <td>NaN</td>\n",
              "      <td>NaN</td>\n",
              "      <td>NaN</td>\n",
              "    </tr>\n",
              "    <tr>\n",
              "      <th>1</th>\n",
              "      <td>4352.0</td>\n",
              "      <td>14616</td>\n",
              "      <td>394422</td>\n",
              "      <td>2017-10-05</td>\n",
              "      <td>2</td>\n",
              "      <td>14:53:00</td>\n",
              "      <td>870.0</td>\n",
              "      <td>1740.0</td>\n",
              "      <td>Location 1</td>\n",
              "      <td>NaN</td>\n",
              "      <td>NaN</td>\n",
              "      <td>NaN</td>\n",
              "    </tr>\n",
              "    <tr>\n",
              "      <th>2</th>\n",
              "      <td>4352.0</td>\n",
              "      <td>14614</td>\n",
              "      <td>394422</td>\n",
              "      <td>2017-10-12</td>\n",
              "      <td>2</td>\n",
              "      <td>14:53:00</td>\n",
              "      <td>933.0</td>\n",
              "      <td>1866.0</td>\n",
              "      <td>Location 1</td>\n",
              "      <td>NaN</td>\n",
              "      <td>NaN</td>\n",
              "      <td>NaN</td>\n",
              "    </tr>\n",
              "    <tr>\n",
              "      <th>3</th>\n",
              "      <td>4352.0</td>\n",
              "      <td>85014B</td>\n",
              "      <td>388633</td>\n",
              "      <td>2017-08-22</td>\n",
              "      <td>3</td>\n",
              "      <td>14:47:00</td>\n",
              "      <td>623.0</td>\n",
              "      <td>1869.0</td>\n",
              "      <td>Location 1</td>\n",
              "      <td>NaN</td>\n",
              "      <td>NaN</td>\n",
              "      <td>NaN</td>\n",
              "    </tr>\n",
              "    <tr>\n",
              "      <th>4</th>\n",
              "      <td>4352.0</td>\n",
              "      <td>15364</td>\n",
              "      <td>394422</td>\n",
              "      <td>2017-10-10</td>\n",
              "      <td>2</td>\n",
              "      <td>14:53:00</td>\n",
              "      <td>944.0</td>\n",
              "      <td>1888.0</td>\n",
              "      <td>Location 1</td>\n",
              "      <td>NaN</td>\n",
              "      <td>NaN</td>\n",
              "      <td>NaN</td>\n",
              "    </tr>\n",
              "  </tbody>\n",
              "</table>\n",
              "</div>"
            ],
            "text/plain": [
              "   CustomerID Item Code  ...  Reason of return Sold as set\n",
              "0      4355.0     15734  ...               NaN         NaN\n",
              "1      4352.0     14616  ...               NaN         NaN\n",
              "2      4352.0     14614  ...               NaN         NaN\n",
              "3      4352.0    85014B  ...               NaN         NaN\n",
              "4      4352.0     15364  ...               NaN         NaN\n",
              "\n",
              "[5 rows x 12 columns]"
            ]
          },
          "metadata": {
            "tags": []
          },
          "execution_count": 6
        }
      ]
    },
    {
      "cell_type": "code",
      "metadata": {
        "id": "N1MHmmmMoGBg"
      },
      "source": [
        "df=df.drop(['Cancelled_status','Reason of return','Sold as set'],axis=1)"
      ],
      "execution_count": 10,
      "outputs": []
    },
    {
      "cell_type": "code",
      "metadata": {
        "colab": {
          "base_uri": "https://localhost:8080/"
        },
        "id": "Zk8l6Mjqodrx",
        "outputId": "19c2fa7b-81b9-4151-955d-e7debbe220ca"
      },
      "source": [
        "df.isnull().sum()"
      ],
      "execution_count": 11,
      "outputs": [
        {
          "output_type": "execute_result",
          "data": {
            "text/plain": [
              "CustomerID           133790\n",
              "Item Code                 0\n",
              "InvoieNo                  0\n",
              "Date of purchase          0\n",
              "Quantity                  0\n",
              "Time                      0\n",
              "price per Unit            0\n",
              "Price                     0\n",
              "Shipping Location         0\n",
              "dtype: int64"
            ]
          },
          "metadata": {
            "tags": []
          },
          "execution_count": 11
        }
      ]
    },
    {
      "cell_type": "code",
      "metadata": {
        "id": "bMgYjJ-UolvJ"
      },
      "source": [
        "df=df.dropna()"
      ],
      "execution_count": 12,
      "outputs": []
    },
    {
      "cell_type": "code",
      "metadata": {
        "colab": {
          "base_uri": "https://localhost:8080/"
        },
        "id": "e4k464SIpO4A",
        "outputId": "b720ac67-d57d-4173-da28-bb6a053845c6"
      },
      "source": [
        "df.isnull().sum()"
      ],
      "execution_count": 13,
      "outputs": [
        {
          "output_type": "execute_result",
          "data": {
            "text/plain": [
              "CustomerID           0\n",
              "Item Code            0\n",
              "InvoieNo             0\n",
              "Date of purchase     0\n",
              "Quantity             0\n",
              "Time                 0\n",
              "price per Unit       0\n",
              "Price                0\n",
              "Shipping Location    0\n",
              "dtype: int64"
            ]
          },
          "metadata": {
            "tags": []
          },
          "execution_count": 13
        }
      ]
    },
    {
      "cell_type": "code",
      "metadata": {
        "colab": {
          "base_uri": "https://localhost:8080/"
        },
        "id": "t1gjwCoPpRsm",
        "outputId": "5a2c19b9-07d6-4072-bca8-f01fb769f143"
      },
      "source": [
        "df.shape"
      ],
      "execution_count": 14,
      "outputs": [
        {
          "output_type": "execute_result",
          "data": {
            "text/plain": [
              "(404189, 9)"
            ]
          },
          "metadata": {
            "tags": []
          },
          "execution_count": 14
        }
      ]
    },
    {
      "cell_type": "code",
      "metadata": {
        "colab": {
          "base_uri": "https://localhost:8080/",
          "height": 669
        },
        "id": "rU9uNwPWpTjR",
        "outputId": "d2aca6fd-abb8-4c79-af41-cd3dda5eed2c"
      },
      "source": [
        "location_customer=df[['Shipping Location','CustomerID']].drop_duplicates()\n",
        "location_customer.groupby(['Shipping Location'])['CustomerID'].aggregate('count').reset_index().sort_values('CustomerID', ascending=False)"
      ],
      "execution_count": 15,
      "outputs": [
        {
          "output_type": "execute_result",
          "data": {
            "text/html": [
              "<div>\n",
              "<style scoped>\n",
              "    .dataframe tbody tr th:only-of-type {\n",
              "        vertical-align: middle;\n",
              "    }\n",
              "\n",
              "    .dataframe tbody tr th {\n",
              "        vertical-align: top;\n",
              "    }\n",
              "\n",
              "    .dataframe thead th {\n",
              "        text-align: right;\n",
              "    }\n",
              "</style>\n",
              "<table border=\"1\" class=\"dataframe\">\n",
              "  <thead>\n",
              "    <tr style=\"text-align: right;\">\n",
              "      <th></th>\n",
              "      <th>Shipping Location</th>\n",
              "      <th>CustomerID</th>\n",
              "    </tr>\n",
              "  </thead>\n",
              "  <tbody>\n",
              "    <tr>\n",
              "      <th>15</th>\n",
              "      <td>Location 36</td>\n",
              "      <td>4347</td>\n",
              "    </tr>\n",
              "    <tr>\n",
              "      <th>10</th>\n",
              "      <td>Location 26</td>\n",
              "      <td>1886</td>\n",
              "    </tr>\n",
              "    <tr>\n",
              "      <th>3</th>\n",
              "      <td>Location 14</td>\n",
              "      <td>1712</td>\n",
              "    </tr>\n",
              "    <tr>\n",
              "      <th>4</th>\n",
              "      <td>Location 15</td>\n",
              "      <td>1500</td>\n",
              "    </tr>\n",
              "    <tr>\n",
              "      <th>0</th>\n",
              "      <td>Location 1</td>\n",
              "      <td>1032</td>\n",
              "    </tr>\n",
              "    <tr>\n",
              "      <th>2</th>\n",
              "      <td>Location 11</td>\n",
              "      <td>976</td>\n",
              "    </tr>\n",
              "    <tr>\n",
              "      <th>16</th>\n",
              "      <td>Location 37</td>\n",
              "      <td>473</td>\n",
              "    </tr>\n",
              "    <tr>\n",
              "      <th>9</th>\n",
              "      <td>Location 25</td>\n",
              "      <td>368</td>\n",
              "    </tr>\n",
              "    <tr>\n",
              "      <th>6</th>\n",
              "      <td>Location 21</td>\n",
              "      <td>341</td>\n",
              "    </tr>\n",
              "    <tr>\n",
              "      <th>5</th>\n",
              "      <td>Location 20</td>\n",
              "      <td>252</td>\n",
              "    </tr>\n",
              "    <tr>\n",
              "      <th>17</th>\n",
              "      <td>Location 4</td>\n",
              "      <td>125</td>\n",
              "    </tr>\n",
              "    <tr>\n",
              "      <th>7</th>\n",
              "      <td>Location 23</td>\n",
              "      <td>105</td>\n",
              "    </tr>\n",
              "    <tr>\n",
              "      <th>13</th>\n",
              "      <td>Location 32</td>\n",
              "      <td>97</td>\n",
              "    </tr>\n",
              "    <tr>\n",
              "      <th>11</th>\n",
              "      <td>Location 28</td>\n",
              "      <td>84</td>\n",
              "    </tr>\n",
              "    <tr>\n",
              "      <th>19</th>\n",
              "      <td>Location 8</td>\n",
              "      <td>82</td>\n",
              "    </tr>\n",
              "    <tr>\n",
              "      <th>1</th>\n",
              "      <td>Location 10</td>\n",
              "      <td>79</td>\n",
              "    </tr>\n",
              "    <tr>\n",
              "      <th>12</th>\n",
              "      <td>Location 31</td>\n",
              "      <td>27</td>\n",
              "    </tr>\n",
              "    <tr>\n",
              "      <th>18</th>\n",
              "      <td>Location 7</td>\n",
              "      <td>14</td>\n",
              "    </tr>\n",
              "    <tr>\n",
              "      <th>8</th>\n",
              "      <td>Location 24</td>\n",
              "      <td>2</td>\n",
              "    </tr>\n",
              "    <tr>\n",
              "      <th>14</th>\n",
              "      <td>Location 34</td>\n",
              "      <td>2</td>\n",
              "    </tr>\n",
              "  </tbody>\n",
              "</table>\n",
              "</div>"
            ],
            "text/plain": [
              "   Shipping Location  CustomerID\n",
              "15       Location 36        4347\n",
              "10       Location 26        1886\n",
              "3        Location 14        1712\n",
              "4        Location 15        1500\n",
              "0         Location 1        1032\n",
              "2        Location 11         976\n",
              "16       Location 37         473\n",
              "9        Location 25         368\n",
              "6        Location 21         341\n",
              "5        Location 20         252\n",
              "17        Location 4         125\n",
              "7        Location 23         105\n",
              "13       Location 32          97\n",
              "11       Location 28          84\n",
              "19        Location 8          82\n",
              "1        Location 10          79\n",
              "12       Location 31          27\n",
              "18        Location 7          14\n",
              "8        Location 24           2\n",
              "14       Location 34           2"
            ]
          },
          "metadata": {
            "tags": []
          },
          "execution_count": 15
        }
      ]
    },
    {
      "cell_type": "code",
      "metadata": {
        "id": "GgzSI0mhp3Nu"
      },
      "source": [
        "df = df[(df['Quantity']>0)]"
      ],
      "execution_count": 16,
      "outputs": []
    },
    {
      "cell_type": "code",
      "metadata": {
        "colab": {
          "base_uri": "https://localhost:8080/"
        },
        "id": "kJhgrHfsqRx-",
        "outputId": "d9eef32a-4f29-4e89-87f9-da10e58c5d70"
      },
      "source": [
        "df.Quantity.min()"
      ],
      "execution_count": 17,
      "outputs": [
        {
          "output_type": "execute_result",
          "data": {
            "text/plain": [
              "1"
            ]
          },
          "metadata": {
            "tags": []
          },
          "execution_count": 17
        }
      ]
    },
    {
      "cell_type": "code",
      "metadata": {
        "colab": {
          "base_uri": "https://localhost:8080/",
          "height": 297
        },
        "id": "dOSQggFzqU0A",
        "outputId": "24de801d-ceef-4772-be7f-6781cbc9d27b"
      },
      "source": [
        "df.describe()"
      ],
      "execution_count": 19,
      "outputs": [
        {
          "output_type": "execute_result",
          "data": {
            "text/html": [
              "<div>\n",
              "<style scoped>\n",
              "    .dataframe tbody tr th:only-of-type {\n",
              "        vertical-align: middle;\n",
              "    }\n",
              "\n",
              "    .dataframe tbody tr th {\n",
              "        vertical-align: top;\n",
              "    }\n",
              "\n",
              "    .dataframe thead th {\n",
              "        text-align: right;\n",
              "    }\n",
              "</style>\n",
              "<table border=\"1\" class=\"dataframe\">\n",
              "  <thead>\n",
              "    <tr style=\"text-align: right;\">\n",
              "      <th></th>\n",
              "      <th>CustomerID</th>\n",
              "      <th>InvoieNo</th>\n",
              "      <th>Quantity</th>\n",
              "      <th>price per Unit</th>\n",
              "      <th>Price</th>\n",
              "    </tr>\n",
              "  </thead>\n",
              "  <tbody>\n",
              "    <tr>\n",
              "      <th>count</th>\n",
              "      <td>396006.000000</td>\n",
              "      <td>396006.000000</td>\n",
              "      <td>396006.000000</td>\n",
              "      <td>396006.000000</td>\n",
              "      <td>396006.000000</td>\n",
              "    </tr>\n",
              "    <tr>\n",
              "      <th>mean</th>\n",
              "      <td>2186.435031</td>\n",
              "      <td>385683.539363</td>\n",
              "      <td>11.822546</td>\n",
              "      <td>338.625269</td>\n",
              "      <td>2554.896987</td>\n",
              "    </tr>\n",
              "    <tr>\n",
              "      <th>std</th>\n",
              "      <td>1252.326552</td>\n",
              "      <td>13107.531763</td>\n",
              "      <td>29.666734</td>\n",
              "      <td>424.300411</td>\n",
              "      <td>4903.384347</td>\n",
              "    </tr>\n",
              "    <tr>\n",
              "      <th>min</th>\n",
              "      <td>2.000000</td>\n",
              "      <td>361429.000000</td>\n",
              "      <td>1.000000</td>\n",
              "      <td>2.000000</td>\n",
              "      <td>12.000000</td>\n",
              "    </tr>\n",
              "    <tr>\n",
              "      <th>25%</th>\n",
              "      <td>1212.000000</td>\n",
              "      <td>374298.000000</td>\n",
              "      <td>2.000000</td>\n",
              "      <td>157.000000</td>\n",
              "      <td>598.000000</td>\n",
              "    </tr>\n",
              "    <tr>\n",
              "      <th>50%</th>\n",
              "      <td>2080.000000</td>\n",
              "      <td>386957.000000</td>\n",
              "      <td>6.000000</td>\n",
              "      <td>237.000000</td>\n",
              "      <td>1608.000000</td>\n",
              "    </tr>\n",
              "    <tr>\n",
              "      <th>75%</th>\n",
              "      <td>3294.000000</td>\n",
              "      <td>397157.000000</td>\n",
              "      <td>12.000000</td>\n",
              "      <td>403.000000</td>\n",
              "      <td>2520.000000</td>\n",
              "    </tr>\n",
              "    <tr>\n",
              "      <th>max</th>\n",
              "      <td>4372.000000</td>\n",
              "      <td>406651.000000</td>\n",
              "      <td>3186.000000</td>\n",
              "      <td>64973.000000</td>\n",
              "      <td>90400.000000</td>\n",
              "    </tr>\n",
              "  </tbody>\n",
              "</table>\n",
              "</div>"
            ],
            "text/plain": [
              "          CustomerID       InvoieNo  ...  price per Unit          Price\n",
              "count  396006.000000  396006.000000  ...   396006.000000  396006.000000\n",
              "mean     2186.435031  385683.539363  ...      338.625269    2554.896987\n",
              "std      1252.326552   13107.531763  ...      424.300411    4903.384347\n",
              "min         2.000000  361429.000000  ...        2.000000      12.000000\n",
              "25%      1212.000000  374298.000000  ...      157.000000     598.000000\n",
              "50%      2080.000000  386957.000000  ...      237.000000    1608.000000\n",
              "75%      3294.000000  397157.000000  ...      403.000000    2520.000000\n",
              "max      4372.000000  406651.000000  ...    64973.000000   90400.000000\n",
              "\n",
              "[8 rows x 5 columns]"
            ]
          },
          "metadata": {
            "tags": []
          },
          "execution_count": 19
        }
      ]
    },
    {
      "cell_type": "code",
      "metadata": {
        "id": "zKjw2e7qqggE"
      },
      "source": [
        "df['Date of purchase'] = pd.to_datetime(df['Date of purchase'])"
      ],
      "execution_count": 21,
      "outputs": []
    },
    {
      "cell_type": "code",
      "metadata": {
        "colab": {
          "base_uri": "https://localhost:8080/"
        },
        "id": "nI6JKrFEq2ct",
        "outputId": "2adc2d16-ea32-4ae4-b6ef-e3dd79324b55"
      },
      "source": [
        "df.dtypes"
      ],
      "execution_count": 22,
      "outputs": [
        {
          "output_type": "execute_result",
          "data": {
            "text/plain": [
              "CustomerID                  float64\n",
              "Item Code                    object\n",
              "InvoieNo                      int64\n",
              "Date of purchase     datetime64[ns]\n",
              "Quantity                      int64\n",
              "Time                         object\n",
              "price per Unit              float64\n",
              "Price                       float64\n",
              "Shipping Location            object\n",
              "dtype: object"
            ]
          },
          "metadata": {
            "tags": []
          },
          "execution_count": 22
        }
      ]
    },
    {
      "cell_type": "code",
      "metadata": {
        "colab": {
          "base_uri": "https://localhost:8080/"
        },
        "id": "VI2RckimrTX6",
        "outputId": "590e517c-30ec-43d4-d720-69a678fb8c11"
      },
      "source": [
        "df['Date of purchase'].max()"
      ],
      "execution_count": 25,
      "outputs": [
        {
          "output_type": "execute_result",
          "data": {
            "text/plain": [
              "Timestamp('2017-12-19 00:00:00')"
            ]
          },
          "metadata": {
            "tags": []
          },
          "execution_count": 25
        }
      ]
    },
    {
      "cell_type": "code",
      "metadata": {
        "colab": {
          "base_uri": "https://localhost:8080/",
          "height": 204
        },
        "id": "8evq-9Aiq7wT",
        "outputId": "8425088c-9418-4283-9465-96ab58d116c1"
      },
      "source": [
        "import datetime as dt\n",
        "\n",
        "#Set Latest date 2011-12-10 as last invoice date was 2011-12-09. This is to calculate the number of days from recent purchase\n",
        "Latest_Date = dt.datetime(2017,12,20)\n",
        "\n",
        "#Create RFM Modelling scores for each customer\n",
        "RFMScores = df.groupby('CustomerID').agg({'Date of purchase': lambda x: (Latest_Date - x.max()).days, 'InvoieNo': lambda x: len(x), 'Price': lambda x: x.sum()})\n",
        "\n",
        "#Convert Invoice Date into type int\n",
        "RFMScores['Date of purchase'] = RFMScores['Date of purchase'].astype(int)\n",
        "\n",
        "#Rename column names to Recency, Frequency and Monetary\n",
        "RFMScores.rename(columns={'Date of purchase': 'Recency', \n",
        "                         'InvoieNo': 'Frequency', \n",
        "                         'Price': 'Monetary'}, inplace=True)\n",
        "\n",
        "RFMScores.reset_index().head()"
      ],
      "execution_count": 27,
      "outputs": [
        {
          "output_type": "execute_result",
          "data": {
            "text/html": [
              "<div>\n",
              "<style scoped>\n",
              "    .dataframe tbody tr th:only-of-type {\n",
              "        vertical-align: middle;\n",
              "    }\n",
              "\n",
              "    .dataframe tbody tr th {\n",
              "        vertical-align: top;\n",
              "    }\n",
              "\n",
              "    .dataframe thead th {\n",
              "        text-align: right;\n",
              "    }\n",
              "</style>\n",
              "<table border=\"1\" class=\"dataframe\">\n",
              "  <thead>\n",
              "    <tr style=\"text-align: right;\">\n",
              "      <th></th>\n",
              "      <th>CustomerID</th>\n",
              "      <th>Recency</th>\n",
              "      <th>Frequency</th>\n",
              "      <th>Monetary</th>\n",
              "    </tr>\n",
              "  </thead>\n",
              "  <tbody>\n",
              "    <tr>\n",
              "      <th>0</th>\n",
              "      <td>2.0</td>\n",
              "      <td>4</td>\n",
              "      <td>182</td>\n",
              "      <td>553704.0</td>\n",
              "    </tr>\n",
              "    <tr>\n",
              "      <th>1</th>\n",
              "      <td>3.0</td>\n",
              "      <td>77</td>\n",
              "      <td>27</td>\n",
              "      <td>257404.0</td>\n",
              "    </tr>\n",
              "    <tr>\n",
              "      <th>2</th>\n",
              "      <td>4.0</td>\n",
              "      <td>19</td>\n",
              "      <td>72</td>\n",
              "      <td>176613.0</td>\n",
              "    </tr>\n",
              "    <tr>\n",
              "      <th>3</th>\n",
              "      <td>5.0</td>\n",
              "      <td>311</td>\n",
              "      <td>16</td>\n",
              "      <td>41976.0</td>\n",
              "    </tr>\n",
              "    <tr>\n",
              "      <th>4</th>\n",
              "      <td>6.0</td>\n",
              "      <td>37</td>\n",
              "      <td>77</td>\n",
              "      <td>166972.0</td>\n",
              "    </tr>\n",
              "  </tbody>\n",
              "</table>\n",
              "</div>"
            ],
            "text/plain": [
              "   CustomerID  Recency  Frequency  Monetary\n",
              "0         2.0        4        182  553704.0\n",
              "1         3.0       77         27  257404.0\n",
              "2         4.0       19         72  176613.0\n",
              "3         5.0      311         16   41976.0\n",
              "4         6.0       37         77  166972.0"
            ]
          },
          "metadata": {
            "tags": []
          },
          "execution_count": 27
        }
      ]
    },
    {
      "cell_type": "code",
      "metadata": {
        "colab": {
          "base_uri": "https://localhost:8080/"
        },
        "id": "0PmDr3GEsYSN",
        "outputId": "66a621a2-2955-46c0-a525-22749def91a0"
      },
      "source": [
        "quantiles = RFMScores.quantile(q=[0.25,0.5,0.75])\n",
        "quantiles = quantiles.to_dict()\n",
        "quantiles"
      ],
      "execution_count": 30,
      "outputs": [
        {
          "output_type": "execute_result",
          "data": {
            "text/plain": [
              "{'Frequency': {0.25: 17.0, 0.5: 41.0, 0.75: 100.0},\n",
              " 'Monetary': {0.25: 39288.0, 0.5: 86147.0, 0.75: 210833.75},\n",
              " 'Recency': {0.25: 19.0, 0.5: 52.0, 0.75: 143.25}}"
            ]
          },
          "metadata": {
            "tags": []
          },
          "execution_count": 30
        }
      ]
    },
    {
      "cell_type": "code",
      "metadata": {
        "id": "g3bSA3Ius0NM"
      },
      "source": [
        "def RScoring(x,p,d):\n",
        "    if x <= d[p][0.25]:\n",
        "        return 1\n",
        "    elif x <= d[p][0.50]:\n",
        "        return 2\n",
        "    elif x <= d[p][0.75]: \n",
        "        return 3\n",
        "    else:\n",
        "        return 4\n",
        "    \n",
        "def FnMScoring(x,p,d):\n",
        "    if x <= d[p][0.25]:\n",
        "        return 4\n",
        "    elif x <= d[p][0.50]:\n",
        "        return 3\n",
        "    elif x <= d[p][0.75]: \n",
        "        return 2\n",
        "    else:\n",
        "        return 1"
      ],
      "execution_count": 31,
      "outputs": []
    },
    {
      "cell_type": "code",
      "metadata": {
        "colab": {
          "base_uri": "https://localhost:8080/",
          "height": 235
        },
        "id": "2MoJyOomtFqa",
        "outputId": "ccb5c083-ec25-4d0e-eead-f781afd627b1"
      },
      "source": [
        "RFMScores['R'] = RFMScores['Recency'].apply(RScoring, args=('Recency',quantiles,))\n",
        "RFMScores['F'] = RFMScores['Frequency'].apply(FnMScoring, args=('Frequency',quantiles,))\n",
        "RFMScores['M'] = RFMScores['Monetary'].apply(FnMScoring, args=('Monetary',quantiles,))\n",
        "RFMScores.head()"
      ],
      "execution_count": 32,
      "outputs": [
        {
          "output_type": "execute_result",
          "data": {
            "text/html": [
              "<div>\n",
              "<style scoped>\n",
              "    .dataframe tbody tr th:only-of-type {\n",
              "        vertical-align: middle;\n",
              "    }\n",
              "\n",
              "    .dataframe tbody tr th {\n",
              "        vertical-align: top;\n",
              "    }\n",
              "\n",
              "    .dataframe thead th {\n",
              "        text-align: right;\n",
              "    }\n",
              "</style>\n",
              "<table border=\"1\" class=\"dataframe\">\n",
              "  <thead>\n",
              "    <tr style=\"text-align: right;\">\n",
              "      <th></th>\n",
              "      <th>Recency</th>\n",
              "      <th>Frequency</th>\n",
              "      <th>Monetary</th>\n",
              "      <th>R</th>\n",
              "      <th>F</th>\n",
              "      <th>M</th>\n",
              "    </tr>\n",
              "    <tr>\n",
              "      <th>CustomerID</th>\n",
              "      <th></th>\n",
              "      <th></th>\n",
              "      <th></th>\n",
              "      <th></th>\n",
              "      <th></th>\n",
              "      <th></th>\n",
              "    </tr>\n",
              "  </thead>\n",
              "  <tbody>\n",
              "    <tr>\n",
              "      <th>2.0</th>\n",
              "      <td>4</td>\n",
              "      <td>182</td>\n",
              "      <td>553704.0</td>\n",
              "      <td>1</td>\n",
              "      <td>1</td>\n",
              "      <td>1</td>\n",
              "    </tr>\n",
              "    <tr>\n",
              "      <th>3.0</th>\n",
              "      <td>77</td>\n",
              "      <td>27</td>\n",
              "      <td>257404.0</td>\n",
              "      <td>3</td>\n",
              "      <td>3</td>\n",
              "      <td>1</td>\n",
              "    </tr>\n",
              "    <tr>\n",
              "      <th>4.0</th>\n",
              "      <td>19</td>\n",
              "      <td>72</td>\n",
              "      <td>176613.0</td>\n",
              "      <td>1</td>\n",
              "      <td>2</td>\n",
              "      <td>2</td>\n",
              "    </tr>\n",
              "    <tr>\n",
              "      <th>5.0</th>\n",
              "      <td>311</td>\n",
              "      <td>16</td>\n",
              "      <td>41976.0</td>\n",
              "      <td>4</td>\n",
              "      <td>4</td>\n",
              "      <td>3</td>\n",
              "    </tr>\n",
              "    <tr>\n",
              "      <th>6.0</th>\n",
              "      <td>37</td>\n",
              "      <td>77</td>\n",
              "      <td>166972.0</td>\n",
              "      <td>2</td>\n",
              "      <td>2</td>\n",
              "      <td>2</td>\n",
              "    </tr>\n",
              "  </tbody>\n",
              "</table>\n",
              "</div>"
            ],
            "text/plain": [
              "            Recency  Frequency  Monetary  R  F  M\n",
              "CustomerID                                       \n",
              "2.0               4        182  553704.0  1  1  1\n",
              "3.0              77         27  257404.0  3  3  1\n",
              "4.0              19         72  176613.0  1  2  2\n",
              "5.0             311         16   41976.0  4  4  3\n",
              "6.0              37         77  166972.0  2  2  2"
            ]
          },
          "metadata": {
            "tags": []
          },
          "execution_count": 32
        }
      ]
    },
    {
      "cell_type": "code",
      "metadata": {
        "colab": {
          "base_uri": "https://localhost:8080/",
          "height": 235
        },
        "id": "b9YCDe4LtOAn",
        "outputId": "5fd336db-026e-46ac-dc0a-f5b95d701961"
      },
      "source": [
        "RFMScores['RFMGroup'] = RFMScores.R.map(str) + RFMScores.F.map(str) + RFMScores.M.map(str)\n",
        "\n",
        "#Calculate and Add RFMScore value column showing total sum of RFMGroup values\n",
        "RFMScores['RFMScore'] = RFMScores[['R', 'F', 'M']].sum(axis = 1)\n",
        "RFMScores.head()"
      ],
      "execution_count": 33,
      "outputs": [
        {
          "output_type": "execute_result",
          "data": {
            "text/html": [
              "<div>\n",
              "<style scoped>\n",
              "    .dataframe tbody tr th:only-of-type {\n",
              "        vertical-align: middle;\n",
              "    }\n",
              "\n",
              "    .dataframe tbody tr th {\n",
              "        vertical-align: top;\n",
              "    }\n",
              "\n",
              "    .dataframe thead th {\n",
              "        text-align: right;\n",
              "    }\n",
              "</style>\n",
              "<table border=\"1\" class=\"dataframe\">\n",
              "  <thead>\n",
              "    <tr style=\"text-align: right;\">\n",
              "      <th></th>\n",
              "      <th>Recency</th>\n",
              "      <th>Frequency</th>\n",
              "      <th>Monetary</th>\n",
              "      <th>R</th>\n",
              "      <th>F</th>\n",
              "      <th>M</th>\n",
              "      <th>RFMGroup</th>\n",
              "      <th>RFMScore</th>\n",
              "    </tr>\n",
              "    <tr>\n",
              "      <th>CustomerID</th>\n",
              "      <th></th>\n",
              "      <th></th>\n",
              "      <th></th>\n",
              "      <th></th>\n",
              "      <th></th>\n",
              "      <th></th>\n",
              "      <th></th>\n",
              "      <th></th>\n",
              "    </tr>\n",
              "  </thead>\n",
              "  <tbody>\n",
              "    <tr>\n",
              "      <th>2.0</th>\n",
              "      <td>4</td>\n",
              "      <td>182</td>\n",
              "      <td>553704.0</td>\n",
              "      <td>1</td>\n",
              "      <td>1</td>\n",
              "      <td>1</td>\n",
              "      <td>111</td>\n",
              "      <td>3</td>\n",
              "    </tr>\n",
              "    <tr>\n",
              "      <th>3.0</th>\n",
              "      <td>77</td>\n",
              "      <td>27</td>\n",
              "      <td>257404.0</td>\n",
              "      <td>3</td>\n",
              "      <td>3</td>\n",
              "      <td>1</td>\n",
              "      <td>331</td>\n",
              "      <td>7</td>\n",
              "    </tr>\n",
              "    <tr>\n",
              "      <th>4.0</th>\n",
              "      <td>19</td>\n",
              "      <td>72</td>\n",
              "      <td>176613.0</td>\n",
              "      <td>1</td>\n",
              "      <td>2</td>\n",
              "      <td>2</td>\n",
              "      <td>122</td>\n",
              "      <td>5</td>\n",
              "    </tr>\n",
              "    <tr>\n",
              "      <th>5.0</th>\n",
              "      <td>311</td>\n",
              "      <td>16</td>\n",
              "      <td>41976.0</td>\n",
              "      <td>4</td>\n",
              "      <td>4</td>\n",
              "      <td>3</td>\n",
              "      <td>443</td>\n",
              "      <td>11</td>\n",
              "    </tr>\n",
              "    <tr>\n",
              "      <th>6.0</th>\n",
              "      <td>37</td>\n",
              "      <td>77</td>\n",
              "      <td>166972.0</td>\n",
              "      <td>2</td>\n",
              "      <td>2</td>\n",
              "      <td>2</td>\n",
              "      <td>222</td>\n",
              "      <td>6</td>\n",
              "    </tr>\n",
              "  </tbody>\n",
              "</table>\n",
              "</div>"
            ],
            "text/plain": [
              "            Recency  Frequency  Monetary  R  F  M RFMGroup  RFMScore\n",
              "CustomerID                                                          \n",
              "2.0               4        182  553704.0  1  1  1      111         3\n",
              "3.0              77         27  257404.0  3  3  1      331         7\n",
              "4.0              19         72  176613.0  1  2  2      122         5\n",
              "5.0             311         16   41976.0  4  4  3      443        11\n",
              "6.0              37         77  166972.0  2  2  2      222         6"
            ]
          },
          "metadata": {
            "tags": []
          },
          "execution_count": 33
        }
      ]
    },
    {
      "cell_type": "code",
      "metadata": {
        "colab": {
          "base_uri": "https://localhost:8080/",
          "height": 204
        },
        "id": "daDMtJuStUMA",
        "outputId": "163d5ab4-464b-41c8-ce74-3bce6c3bb632"
      },
      "source": [
        "Loyalty_Level = ['Platinum', 'Gold', 'Silver', 'Bronze']\n",
        "Score_cuts = pd.qcut(RFMScores.RFMScore, q = 4, labels = Loyalty_Level)\n",
        "RFMScores['RFM_Loyalty_Level'] = Score_cuts.values\n",
        "RFMScores.reset_index().head()"
      ],
      "execution_count": 34,
      "outputs": [
        {
          "output_type": "execute_result",
          "data": {
            "text/html": [
              "<div>\n",
              "<style scoped>\n",
              "    .dataframe tbody tr th:only-of-type {\n",
              "        vertical-align: middle;\n",
              "    }\n",
              "\n",
              "    .dataframe tbody tr th {\n",
              "        vertical-align: top;\n",
              "    }\n",
              "\n",
              "    .dataframe thead th {\n",
              "        text-align: right;\n",
              "    }\n",
              "</style>\n",
              "<table border=\"1\" class=\"dataframe\">\n",
              "  <thead>\n",
              "    <tr style=\"text-align: right;\">\n",
              "      <th></th>\n",
              "      <th>CustomerID</th>\n",
              "      <th>Recency</th>\n",
              "      <th>Frequency</th>\n",
              "      <th>Monetary</th>\n",
              "      <th>R</th>\n",
              "      <th>F</th>\n",
              "      <th>M</th>\n",
              "      <th>RFMGroup</th>\n",
              "      <th>RFMScore</th>\n",
              "      <th>RFM_Loyalty_Level</th>\n",
              "    </tr>\n",
              "  </thead>\n",
              "  <tbody>\n",
              "    <tr>\n",
              "      <th>0</th>\n",
              "      <td>2.0</td>\n",
              "      <td>4</td>\n",
              "      <td>182</td>\n",
              "      <td>553704.0</td>\n",
              "      <td>1</td>\n",
              "      <td>1</td>\n",
              "      <td>1</td>\n",
              "      <td>111</td>\n",
              "      <td>3</td>\n",
              "      <td>Platinum</td>\n",
              "    </tr>\n",
              "    <tr>\n",
              "      <th>1</th>\n",
              "      <td>3.0</td>\n",
              "      <td>77</td>\n",
              "      <td>27</td>\n",
              "      <td>257404.0</td>\n",
              "      <td>3</td>\n",
              "      <td>3</td>\n",
              "      <td>1</td>\n",
              "      <td>331</td>\n",
              "      <td>7</td>\n",
              "      <td>Gold</td>\n",
              "    </tr>\n",
              "    <tr>\n",
              "      <th>2</th>\n",
              "      <td>4.0</td>\n",
              "      <td>19</td>\n",
              "      <td>72</td>\n",
              "      <td>176613.0</td>\n",
              "      <td>1</td>\n",
              "      <td>2</td>\n",
              "      <td>2</td>\n",
              "      <td>122</td>\n",
              "      <td>5</td>\n",
              "      <td>Platinum</td>\n",
              "    </tr>\n",
              "    <tr>\n",
              "      <th>3</th>\n",
              "      <td>5.0</td>\n",
              "      <td>311</td>\n",
              "      <td>16</td>\n",
              "      <td>41976.0</td>\n",
              "      <td>4</td>\n",
              "      <td>4</td>\n",
              "      <td>3</td>\n",
              "      <td>443</td>\n",
              "      <td>11</td>\n",
              "      <td>Bronze</td>\n",
              "    </tr>\n",
              "    <tr>\n",
              "      <th>4</th>\n",
              "      <td>6.0</td>\n",
              "      <td>37</td>\n",
              "      <td>77</td>\n",
              "      <td>166972.0</td>\n",
              "      <td>2</td>\n",
              "      <td>2</td>\n",
              "      <td>2</td>\n",
              "      <td>222</td>\n",
              "      <td>6</td>\n",
              "      <td>Gold</td>\n",
              "    </tr>\n",
              "  </tbody>\n",
              "</table>\n",
              "</div>"
            ],
            "text/plain": [
              "   CustomerID  Recency  Frequency  ...  RFMGroup  RFMScore  RFM_Loyalty_Level\n",
              "0         2.0        4        182  ...       111         3           Platinum\n",
              "1         3.0       77         27  ...       331         7               Gold\n",
              "2         4.0       19         72  ...       122         5           Platinum\n",
              "3         5.0      311         16  ...       443        11             Bronze\n",
              "4         6.0       37         77  ...       222         6               Gold\n",
              "\n",
              "[5 rows x 10 columns]"
            ]
          },
          "metadata": {
            "tags": []
          },
          "execution_count": 34
        }
      ]
    },
    {
      "cell_type": "code",
      "metadata": {
        "id": "bsMNChuEtYYJ"
      },
      "source": [
        "##Kmeans"
      ],
      "execution_count": 36,
      "outputs": []
    },
    {
      "cell_type": "code",
      "metadata": {
        "id": "y8i6bya3tm3Z"
      },
      "source": [
        "def handle_neg_n_zero(num):\n",
        "    if num <= 0:\n",
        "        return 1\n",
        "    else:\n",
        "        return num\n",
        "#Apply handle_neg_n_zero function to Recency and Monetary columns \n",
        "RFMScores['Recency'] = [handle_neg_n_zero(x) for x in RFMScores.Recency]\n",
        "RFMScores['Monetary'] = [handle_neg_n_zero(x) for x in RFMScores.Monetary]"
      ],
      "execution_count": 37,
      "outputs": []
    },
    {
      "cell_type": "code",
      "metadata": {
        "id": "XE9R3aBvtstL"
      },
      "source": [
        "Log_Tfd_Data = RFMScores[['Recency', 'Frequency', 'Monetary']].apply(np.log, axis = 1).round(3)"
      ],
      "execution_count": 38,
      "outputs": []
    },
    {
      "cell_type": "code",
      "metadata": {
        "id": "ldgoIBoKtwvh"
      },
      "source": [
        "from sklearn.preprocessing import StandardScaler\n",
        "\n",
        "#Bring the data on same scale\n",
        "scaleobj = StandardScaler()\n",
        "Scaled_Data = scaleobj.fit_transform(Log_Tfd_Data)\n",
        "\n",
        "#Transform it back to dataframe\n",
        "Scaled_Data = pd.DataFrame(Scaled_Data, index = RFMScores.index, columns = Log_Tfd_Data.columns)"
      ],
      "execution_count": 39,
      "outputs": []
    },
    {
      "cell_type": "code",
      "metadata": {
        "colab": {
          "base_uri": "https://localhost:8080/",
          "height": 295
        },
        "id": "kLpeeLVIt6V_",
        "outputId": "4a7c2533-eb45-4964-8dca-0eaad224c0d2"
      },
      "source": [
        "from sklearn.cluster import KMeans\n",
        "\n",
        "sum_of_sq_dist = {}\n",
        "for k in range(1,15):\n",
        "    km = KMeans(n_clusters= k, init= 'k-means++', max_iter= 1000)\n",
        "    km = km.fit(Scaled_Data)\n",
        "    sum_of_sq_dist[k] = km.inertia_\n",
        "    \n",
        "#Plot the graph for the sum of square distance values and Number of Clusters\n",
        "import seaborn as sns\n",
        "sns.pointplot(x = list(sum_of_sq_dist.keys()), y = list(sum_of_sq_dist.values()))\n",
        "plt.xlabel('Number of Clusters(k)')\n",
        "plt.ylabel('Sum of Square Distances')\n",
        "plt.title('Elbow Method For Optimal k')\n",
        "plt.show()"
      ],
      "execution_count": 41,
      "outputs": [
        {
          "output_type": "display_data",
          "data": {
            "image/png": "[encoded data removed]",
            "text/plain": [
              "<Figure size 432x288 with 1 Axes>"
            ]
          },
          "metadata": {
            "tags": [],
            "needs_background": "light"
          }
        }
      ]
    },
    {
      "cell_type": "code",
      "metadata": {
        "id": "-tDdXbTOuDhh"
      },
      "source": [
        "# from elbow curve the optimal k value us 3"
      ],
      "execution_count": 42,
      "outputs": []
    },
    {
      "cell_type": "code",
      "metadata": {
        "colab": {
          "base_uri": "https://localhost:8080/",
          "height": 235
        },
        "id": "wOkpN91Guf1o",
        "outputId": "92680bbb-f9d8-4dff-eccc-f1b2589b7a1c"
      },
      "source": [
        "#Perform K-Mean Clustering or build the K-Means clustering model\n",
        "KMean_clust = KMeans(n_clusters= 3, init= 'k-means++', max_iter= 1000)\n",
        "KMean_clust.fit(Scaled_Data)\n",
        "\n",
        "#Find the clusters for the observation given in the dataset\n",
        "RFMScores['Cluster'] = KMean_clust.labels_\n",
        "RFMScores.head()"
      ],
      "execution_count": 43,
      "outputs": [
        {
          "output_type": "execute_result",
          "data": {
            "text/html": [
              "<div>\n",
              "<style scoped>\n",
              "    .dataframe tbody tr th:only-of-type {\n",
              "        vertical-align: middle;\n",
              "    }\n",
              "\n",
              "    .dataframe tbody tr th {\n",
              "        vertical-align: top;\n",
              "    }\n",
              "\n",
              "    .dataframe thead th {\n",
              "        text-align: right;\n",
              "    }\n",
              "</style>\n",
              "<table border=\"1\" class=\"dataframe\">\n",
              "  <thead>\n",
              "    <tr style=\"text-align: right;\">\n",
              "      <th></th>\n",
              "      <th>Recency</th>\n",
              "      <th>Frequency</th>\n",
              "      <th>Monetary</th>\n",
              "      <th>R</th>\n",
              "      <th>F</th>\n",
              "      <th>M</th>\n",
              "      <th>RFMGroup</th>\n",
              "      <th>RFMScore</th>\n",
              "      <th>RFM_Loyalty_Level</th>\n",
              "      <th>Cluster</th>\n",
              "    </tr>\n",
              "    <tr>\n",
              "      <th>CustomerID</th>\n",
              "      <th></th>\n",
              "      <th></th>\n",
              "      <th></th>\n",
              "      <th></th>\n",
              "      <th></th>\n",
              "      <th></th>\n",
              "      <th></th>\n",
              "      <th></th>\n",
              "      <th></th>\n",
              "      <th></th>\n",
              "    </tr>\n",
              "  </thead>\n",
              "  <tbody>\n",
              "    <tr>\n",
              "      <th>2.0</th>\n",
              "      <td>4</td>\n",
              "      <td>182</td>\n",
              "      <td>553704.0</td>\n",
              "      <td>1</td>\n",
              "      <td>1</td>\n",
              "      <td>1</td>\n",
              "      <td>111</td>\n",
              "      <td>3</td>\n",
              "      <td>Platinum</td>\n",
              "      <td>0</td>\n",
              "    </tr>\n",
              "    <tr>\n",
              "      <th>3.0</th>\n",
              "      <td>77</td>\n",
              "      <td>27</td>\n",
              "      <td>257404.0</td>\n",
              "      <td>3</td>\n",
              "      <td>3</td>\n",
              "      <td>1</td>\n",
              "      <td>331</td>\n",
              "      <td>7</td>\n",
              "      <td>Gold</td>\n",
              "      <td>2</td>\n",
              "    </tr>\n",
              "    <tr>\n",
              "      <th>4.0</th>\n",
              "      <td>19</td>\n",
              "      <td>72</td>\n",
              "      <td>176613.0</td>\n",
              "      <td>1</td>\n",
              "      <td>2</td>\n",
              "      <td>2</td>\n",
              "      <td>122</td>\n",
              "      <td>5</td>\n",
              "      <td>Platinum</td>\n",
              "      <td>2</td>\n",
              "    </tr>\n",
              "    <tr>\n",
              "      <th>5.0</th>\n",
              "      <td>311</td>\n",
              "      <td>16</td>\n",
              "      <td>41976.0</td>\n",
              "      <td>4</td>\n",
              "      <td>4</td>\n",
              "      <td>3</td>\n",
              "      <td>443</td>\n",
              "      <td>11</td>\n",
              "      <td>Bronze</td>\n",
              "      <td>1</td>\n",
              "    </tr>\n",
              "    <tr>\n",
              "      <th>6.0</th>\n",
              "      <td>37</td>\n",
              "      <td>77</td>\n",
              "      <td>166972.0</td>\n",
              "      <td>2</td>\n",
              "      <td>2</td>\n",
              "      <td>2</td>\n",
              "      <td>222</td>\n",
              "      <td>6</td>\n",
              "      <td>Gold</td>\n",
              "      <td>2</td>\n",
              "    </tr>\n",
              "  </tbody>\n",
              "</table>\n",
              "</div>"
            ],
            "text/plain": [
              "            Recency  Frequency  Monetary  ...  RFMScore  RFM_Loyalty_Level  Cluster\n",
              "CustomerID                                ...                                      \n",
              "2.0               4        182  553704.0  ...         3           Platinum        0\n",
              "3.0              77         27  257404.0  ...         7               Gold        2\n",
              "4.0              19         72  176613.0  ...         5           Platinum        2\n",
              "5.0             311         16   41976.0  ...        11             Bronze        1\n",
              "6.0              37         77  166972.0  ...         6               Gold        2\n",
              "\n",
              "[5 rows x 10 columns]"
            ]
          },
          "metadata": {
            "tags": []
          },
          "execution_count": 43
        }
      ]
    },
    {
      "cell_type": "code",
      "metadata": {
        "colab": {
          "base_uri": "https://localhost:8080/",
          "height": 514
        },
        "id": "Y6XYfOamurv4",
        "outputId": "cab694ef-659b-4197-bf26-dd2b49a412f2"
      },
      "source": [
        "from matplotlib import pyplot as plt\n",
        "plt.figure(figsize=(7,7))\n",
        "\n",
        "##Scatter Plot Frequency Vs Recency\n",
        "Colors = [\"red\", \"green\", \"blue\"]\n",
        "RFMScores['Color'] = RFMScores['Cluster'].map(lambda p: Colors[p])\n",
        "ax = RFMScores.plot(    \n",
        "    kind=\"scatter\", \n",
        "    x=\"Recency\", y=\"Frequency\",\n",
        "    figsize=(10,8),\n",
        "    c = RFMScores['Color']\n",
        ")"
      ],
      "execution_count": 45,
      "outputs": [
        {
          "output_type": "display_data",
          "data": {
            "text/plain": [
              "<Figure size 504x504 with 0 Axes>"
            ]
          },
          "metadata": {
            "tags": []
          }
        },
        {
          "output_type": "display_data",
          "data": {
            "image/png": "[encoded data removed]",
            "text/plain": [
              "<Figure size 720x576 with 1 Axes>"
            ]
          },
          "metadata": {
            "tags": [],
            "needs_background": "light"
          }
        }
      ]
    },
    {
      "cell_type": "code",
      "metadata": {
        "id": "kqMchdldu0qc"
      },
      "source": [
        ""
      ],
      "execution_count": null,
      "outputs": []
    }
  ]
}